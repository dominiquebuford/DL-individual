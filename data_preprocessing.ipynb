{
  "nbformat": 4,
  "nbformat_minor": 0,
  "metadata": {
    "colab": {
      "provenance": [],
      "authorship_tag": "ABX9TyPud0Bngt5rYcdaTWH2wWJN",
      "include_colab_link": true
    },
    "kernelspec": {
      "name": "python3",
      "display_name": "Python 3"
    },
    "language_info": {
      "name": "python"
    }
  },
  "cells": [
    {
      "cell_type": "markdown",
      "metadata": {
        "id": "view-in-github",
        "colab_type": "text"
      },
      "source": [
        "<a href=\"https://colab.research.google.com/github/dominiquebuford/DL-individual/blob/main/data_preprocessing.ipynb\" target=\"_parent\"><img src=\"https://colab.research.google.com/assets/colab-badge.svg\" alt=\"Open In Colab\"/></a>"
      ]
    },
    {
      "cell_type": "code",
      "execution_count": null,
      "metadata": {
        "id": "NVxWojZ-x6A2"
      },
      "outputs": [],
      "source": [
        "#we need to define the center of the body and then process the data points as their distance from the center"
      ]
    },
    {
      "cell_type": "code",
      "source": [
        "import numpy as np"
      ],
      "metadata": {
        "id": "r5QUo8oTVBVs"
      },
      "execution_count": null,
      "outputs": []
    },
    {
      "cell_type": "code",
      "source": [
        "!gcloud init"
      ],
      "metadata": {
        "id": "ewqIhIqvyTbs",
        "colab": {
          "base_uri": "https://localhost:8080/"
        },
        "outputId": "e3d63fbc-69dc-475d-f946-63dcaa0547cf"
      },
      "execution_count": null,
      "outputs": [
        {
          "output_type": "stream",
          "name": "stdout",
          "text": [
            "Welcome! This command will take you through the configuration of gcloud.\n",
            "\n",
            "Settings from your current configuration [default] are:\n",
            "component_manager:\n",
            "  disable_update_check: 'True'\n",
            "compute:\n",
            "  gce_metadata_read_timeout_sec: '0'\n",
            "\n",
            "Pick configuration to use:\n",
            " [1] Re-initialize this configuration [default] with new settings \n",
            " [2] Create a new configuration\n",
            "Please enter your numeric choice:  1\n",
            "\n",
            "Your current configuration has been set to: [default]\n",
            "\n",
            "You can skip diagnostics next time by using the following flag:\n",
            "  gcloud init --skip-diagnostics\n",
            "\n",
            "Network diagnostic detects and fixes local network connection issues.\n",
            "Reachability Check passed.\n",
            "Network diagnostic passed (1/1 checks passed).\n",
            "\n",
            "You must log in to continue. Would you like to log in (Y/n)?  y\n",
            "\n",
            "Go to the following link in your browser:\n",
            "\n",
            "    https://accounts.google.com/o/oauth2/auth?response_type=code&client_id=32555940559.apps.googleusercontent.com&redirect_uri=https%3A%2F%2Fsdk.cloud.google.com%2Fauthcode.html&scope=openid+https%3A%2F%2Fwww.googleapis.com%2Fauth%2Fuserinfo.email+https%3A%2F%2Fwww.googleapis.com%2Fauth%2Fcloud-platform+https%3A%2F%2Fwww.googleapis.com%2Fauth%2Fappengine.admin+https%3A%2F%2Fwww.googleapis.com%2Fauth%2Fsqlservice.login+https%3A%2F%2Fwww.googleapis.com%2Fauth%2Fcompute+https%3A%2F%2Fwww.googleapis.com%2Fauth%2Faccounts.reauth&state=2tyCU9dwBCqDcd0Y7vZXOZeFilWe4D&prompt=consent&token_usage=remote&access_type=offline&code_challenge=AnqGqqaxBKvHHCJd6WVj5u-16nnoflgD08PAvYwKqY0&code_challenge_method=S256\n",
            "\n",
            "Enter authorization code: 4/0AeaYSHBMkgraFYj_giIuyYs4sNkEJk16UxkfkR2LeIM_ViP5SX6OZLtCRdEdJtxlZz84Zw\n",
            "You are logged in as: [ddnbuford@gmail.com].\n",
            "\n",
            "Pick cloud project to use: \n",
            " [1] cs207-scavengerhunt\n",
            " [2] steady-run-414821\n",
            " [3] Enter a project ID\n",
            " [4] Create a new project\n",
            "Please enter numeric choice or text value (must exactly match list item):  2\n",
            "\n",
            "Your current project has been set to: [steady-run-414821].\n",
            "\n",
            "Not setting default zone/region (this feature makes it easier to use\n",
            "[gcloud compute] by setting an appropriate default value for the\n",
            "--zone and --region flag).\n",
            "See https://cloud.google.com/compute/docs/gcloud-compute section on how to set\n",
            "default compute region and zone manually. If you would like [gcloud init] to be\n",
            "able to do this for you the next time you run it, make sure the\n",
            "Compute Engine API is enabled for your project on the\n",
            "https://console.developers.google.com/apis page.\n",
            "\n",
            "Your Google Cloud SDK is configured and ready to use!\n",
            "\n",
            "* Commands that require authentication will use ddnbuford@gmail.com by default\n",
            "* Commands will reference project `steady-run-414821` by default\n",
            "Run `gcloud help config` to learn how to change individual settings\n",
            "\n",
            "This gcloud configuration is called [default]. You can create additional configurations if you work with multiple accounts and/or projects.\n",
            "Run `gcloud topic configurations` to learn more.\n",
            "\n",
            "Some things to try next:\n",
            "\n",
            "* Run `gcloud --help` to see the Cloud Platform services you can interact with. And run `gcloud help COMMAND` to get help on any gcloud command.\n",
            "* Run `gcloud topic --help` to learn about advanced features of the SDK like arg files and output formatting\n",
            "* Run `gcloud cheat-sheet` to see a roster of go-to `gcloud` commands.\n"
          ]
        }
      ]
    },
    {
      "cell_type": "code",
      "source": [
        "from google.colab import files\n",
        "\n",
        "# Upload the JSON key file\n",
        "uploaded = files.upload()\n",
        "import os\n",
        "\n",
        "os.environ['GOOGLE_APPLICATION_CREDENTIALS'] = '/content/service-account-key.json'"
      ],
      "metadata": {
        "id": "33DGovkFyhSD",
        "colab": {
          "base_uri": "https://localhost:8080/",
          "height": 73
        },
        "outputId": "b7ec2b0d-23f2-45bc-a242-6cf7045ea7e8"
      },
      "execution_count": null,
      "outputs": [
        {
          "output_type": "display_data",
          "data": {
            "text/plain": [
              "<IPython.core.display.HTML object>"
            ],
            "text/html": [
              "\n",
              "     <input type=\"file\" id=\"files-65bcbe81-22c9-4cac-8cb6-d4ebac8619ff\" name=\"files[]\" multiple disabled\n",
              "        style=\"border:none\" />\n",
              "     <output id=\"result-65bcbe81-22c9-4cac-8cb6-d4ebac8619ff\">\n",
              "      Upload widget is only available when the cell has been executed in the\n",
              "      current browser session. Please rerun this cell to enable.\n",
              "      </output>\n",
              "      <script>// Copyright 2017 Google LLC\n",
              "//\n",
              "// Licensed under the Apache License, Version 2.0 (the \"License\");\n",
              "// you may not use this file except in compliance with the License.\n",
              "// You may obtain a copy of the License at\n",
              "//\n",
              "//      http://www.apache.org/licenses/LICENSE-2.0\n",
              "//\n",
              "// Unless required by applicable law or agreed to in writing, software\n",
              "// distributed under the License is distributed on an \"AS IS\" BASIS,\n",
              "// WITHOUT WARRANTIES OR CONDITIONS OF ANY KIND, either express or implied.\n",
              "// See the License for the specific language governing permissions and\n",
              "// limitations under the License.\n",
              "\n",
              "/**\n",
              " * @fileoverview Helpers for google.colab Python module.\n",
              " */\n",
              "(function(scope) {\n",
              "function span(text, styleAttributes = {}) {\n",
              "  const element = document.createElement('span');\n",
              "  element.textContent = text;\n",
              "  for (const key of Object.keys(styleAttributes)) {\n",
              "    element.style[key] = styleAttributes[key];\n",
              "  }\n",
              "  return element;\n",
              "}\n",
              "\n",
              "// Max number of bytes which will be uploaded at a time.\n",
              "const MAX_PAYLOAD_SIZE = 100 * 1024;\n",
              "\n",
              "function _uploadFiles(inputId, outputId) {\n",
              "  const steps = uploadFilesStep(inputId, outputId);\n",
              "  const outputElement = document.getElementById(outputId);\n",
              "  // Cache steps on the outputElement to make it available for the next call\n",
              "  // to uploadFilesContinue from Python.\n",
              "  outputElement.steps = steps;\n",
              "\n",
              "  return _uploadFilesContinue(outputId);\n",
              "}\n",
              "\n",
              "// This is roughly an async generator (not supported in the browser yet),\n",
              "// where there are multiple asynchronous steps and the Python side is going\n",
              "// to poll for completion of each step.\n",
              "// This uses a Promise to block the python side on completion of each step,\n",
              "// then passes the result of the previous step as the input to the next step.\n",
              "function _uploadFilesContinue(outputId) {\n",
              "  const outputElement = document.getElementById(outputId);\n",
              "  const steps = outputElement.steps;\n",
              "\n",
              "  const next = steps.next(outputElement.lastPromiseValue);\n",
              "  return Promise.resolve(next.value.promise).then((value) => {\n",
              "    // Cache the last promise value to make it available to the next\n",
              "    // step of the generator.\n",
              "    outputElement.lastPromiseValue = value;\n",
              "    return next.value.response;\n",
              "  });\n",
              "}\n",
              "\n",
              "/**\n",
              " * Generator function which is called between each async step of the upload\n",
              " * process.\n",
              " * @param {string} inputId Element ID of the input file picker element.\n",
              " * @param {string} outputId Element ID of the output display.\n",
              " * @return {!Iterable<!Object>} Iterable of next steps.\n",
              " */\n",
              "function* uploadFilesStep(inputId, outputId) {\n",
              "  const inputElement = document.getElementById(inputId);\n",
              "  inputElement.disabled = false;\n",
              "\n",
              "  const outputElement = document.getElementById(outputId);\n",
              "  outputElement.innerHTML = '';\n",
              "\n",
              "  const pickedPromise = new Promise((resolve) => {\n",
              "    inputElement.addEventListener('change', (e) => {\n",
              "      resolve(e.target.files);\n",
              "    });\n",
              "  });\n",
              "\n",
              "  const cancel = document.createElement('button');\n",
              "  inputElement.parentElement.appendChild(cancel);\n",
              "  cancel.textContent = 'Cancel upload';\n",
              "  const cancelPromise = new Promise((resolve) => {\n",
              "    cancel.onclick = () => {\n",
              "      resolve(null);\n",
              "    };\n",
              "  });\n",
              "\n",
              "  // Wait for the user to pick the files.\n",
              "  const files = yield {\n",
              "    promise: Promise.race([pickedPromise, cancelPromise]),\n",
              "    response: {\n",
              "      action: 'starting',\n",
              "    }\n",
              "  };\n",
              "\n",
              "  cancel.remove();\n",
              "\n",
              "  // Disable the input element since further picks are not allowed.\n",
              "  inputElement.disabled = true;\n",
              "\n",
              "  if (!files) {\n",
              "    return {\n",
              "      response: {\n",
              "        action: 'complete',\n",
              "      }\n",
              "    };\n",
              "  }\n",
              "\n",
              "  for (const file of files) {\n",
              "    const li = document.createElement('li');\n",
              "    li.append(span(file.name, {fontWeight: 'bold'}));\n",
              "    li.append(span(\n",
              "        `(${file.type || 'n/a'}) - ${file.size} bytes, ` +\n",
              "        `last modified: ${\n",
              "            file.lastModifiedDate ? file.lastModifiedDate.toLocaleDateString() :\n",
              "                                    'n/a'} - `));\n",
              "    const percent = span('0% done');\n",
              "    li.appendChild(percent);\n",
              "\n",
              "    outputElement.appendChild(li);\n",
              "\n",
              "    const fileDataPromise = new Promise((resolve) => {\n",
              "      const reader = new FileReader();\n",
              "      reader.onload = (e) => {\n",
              "        resolve(e.target.result);\n",
              "      };\n",
              "      reader.readAsArrayBuffer(file);\n",
              "    });\n",
              "    // Wait for the data to be ready.\n",
              "    let fileData = yield {\n",
              "      promise: fileDataPromise,\n",
              "      response: {\n",
              "        action: 'continue',\n",
              "      }\n",
              "    };\n",
              "\n",
              "    // Use a chunked sending to avoid message size limits. See b/62115660.\n",
              "    let position = 0;\n",
              "    do {\n",
              "      const length = Math.min(fileData.byteLength - position, MAX_PAYLOAD_SIZE);\n",
              "      const chunk = new Uint8Array(fileData, position, length);\n",
              "      position += length;\n",
              "\n",
              "      const base64 = btoa(String.fromCharCode.apply(null, chunk));\n",
              "      yield {\n",
              "        response: {\n",
              "          action: 'append',\n",
              "          file: file.name,\n",
              "          data: base64,\n",
              "        },\n",
              "      };\n",
              "\n",
              "      let percentDone = fileData.byteLength === 0 ?\n",
              "          100 :\n",
              "          Math.round((position / fileData.byteLength) * 100);\n",
              "      percent.textContent = `${percentDone}% done`;\n",
              "\n",
              "    } while (position < fileData.byteLength);\n",
              "  }\n",
              "\n",
              "  // All done.\n",
              "  yield {\n",
              "    response: {\n",
              "      action: 'complete',\n",
              "    }\n",
              "  };\n",
              "}\n",
              "\n",
              "scope.google = scope.google || {};\n",
              "scope.google.colab = scope.google.colab || {};\n",
              "scope.google.colab._files = {\n",
              "  _uploadFiles,\n",
              "  _uploadFilesContinue,\n",
              "};\n",
              "})(self);\n",
              "</script> "
            ]
          },
          "metadata": {}
        },
        {
          "output_type": "stream",
          "name": "stdout",
          "text": [
            "Saving service-account-key.json to service-account-key.json\n"
          ]
        }
      ]
    },
    {
      "cell_type": "code",
      "source": [
        "!gsutil cp gs://dl-individual-project/annotations/mpii_human_pose.csv /content/human_pose.csv"
      ],
      "metadata": {
        "id": "krH5WB8Iyuwb",
        "colab": {
          "base_uri": "https://localhost:8080/"
        },
        "outputId": "c2153275-3176-4753-a01f-ce1e687f6086"
      },
      "execution_count": null,
      "outputs": [
        {
          "output_type": "stream",
          "name": "stdout",
          "text": [
            "Copying gs://dl-individual-project/annotations/mpii_human_pose.csv...\n",
            "/ [1 files][  3.7 MiB/  3.7 MiB]                                                \n",
            "Operation completed over 1 objects/3.7 MiB.                                      \n"
          ]
        }
      ]
    },
    {
      "cell_type": "code",
      "source": [
        "#update csv file to only contain the images I will be using\n",
        "from google.cloud import storage\n",
        "import pandas as pd\n",
        "\n",
        "bucket_name = 'dl-individual-project'\n",
        "images_folder = 'images/'\n",
        "client = storage.Client()\n",
        "bucket = client.get_bucket(bucket_name)\n",
        "blobs = bucket.list_blobs(prefix = images_folder)\n",
        "blob_names = [blob.name[len(images_folder):] for blob in blobs]\n",
        "\n",
        "df= pd.read_csv(\"human_pose.csv\")\n",
        "\n",
        "df_filtered = df[df['NAME'].isin(blob_names)]\n",
        "\n",
        "#calculate point from center\n",
        "\n",
        "\n",
        "#df_filtered.to_csv(\"filtered_annotations.csv\")\n",
        "\n",
        "#blob = bucket.blob(\"annotations/filtered_annotations.csv\")\n",
        "\n",
        "#blob.upload_from_filename(\"filtered_annotations.csv\")"
      ],
      "metadata": {
        "id": "rJ_rZKzMz8gz"
      },
      "execution_count": null,
      "outputs": []
    },
    {
      "cell_type": "code",
      "source": [
        "df_filtered.replace('football, competitive', 'football', inplace = True)\n",
        "df_filtered.replace('football, touch, flag', 'football', inplace = True)\n",
        "df_filtered.replace('basketball, game (Taylor Code 490)', 'basketball', inplace = True)\n",
        "df_filtered.replace('boxing, sparring', 'boxing', inplace = True)\n",
        "df_filtered.replace('boxing, in ring, general', 'boxing', inplace = True)\n",
        "\n",
        "df_filtered['Activity'].value_counts()"
      ],
      "metadata": {
        "id": "8iQ5qZQkHx65",
        "colab": {
          "base_uri": "https://localhost:8080/"
        },
        "outputId": "13d17e70-00f4-461e-8798-dbad444ad571"
      },
      "execution_count": null,
      "outputs": [
        {
          "output_type": "stream",
          "name": "stderr",
          "text": [
            "<ipython-input-6-cb589e78a665>:1: SettingWithCopyWarning: \n",
            "A value is trying to be set on a copy of a slice from a DataFrame\n",
            "\n",
            "See the caveats in the documentation: https://pandas.pydata.org/pandas-docs/stable/user_guide/indexing.html#returning-a-view-versus-a-copy\n",
            "  df_filtered.replace('football, competitive', 'football', inplace = True)\n",
            "<ipython-input-6-cb589e78a665>:2: SettingWithCopyWarning: \n",
            "A value is trying to be set on a copy of a slice from a DataFrame\n",
            "\n",
            "See the caveats in the documentation: https://pandas.pydata.org/pandas-docs/stable/user_guide/indexing.html#returning-a-view-versus-a-copy\n",
            "  df_filtered.replace('football, touch, flag', 'football', inplace = True)\n",
            "<ipython-input-6-cb589e78a665>:3: SettingWithCopyWarning: \n",
            "A value is trying to be set on a copy of a slice from a DataFrame\n",
            "\n",
            "See the caveats in the documentation: https://pandas.pydata.org/pandas-docs/stable/user_guide/indexing.html#returning-a-view-versus-a-copy\n",
            "  df_filtered.replace('basketball, game (Taylor Code 490)', 'basketball', inplace = True)\n",
            "<ipython-input-6-cb589e78a665>:4: SettingWithCopyWarning: \n",
            "A value is trying to be set on a copy of a slice from a DataFrame\n",
            "\n",
            "See the caveats in the documentation: https://pandas.pydata.org/pandas-docs/stable/user_guide/indexing.html#returning-a-view-versus-a-copy\n",
            "  df_filtered.replace('boxing, sparring', 'boxing', inplace = True)\n",
            "<ipython-input-6-cb589e78a665>:5: SettingWithCopyWarning: \n",
            "A value is trying to be set on a copy of a slice from a DataFrame\n",
            "\n",
            "See the caveats in the documentation: https://pandas.pydata.org/pandas-docs/stable/user_guide/indexing.html#returning-a-view-versus-a-copy\n",
            "  df_filtered.replace('boxing, in ring, general', 'boxing', inplace = True)\n"
          ]
        },
        {
          "output_type": "execute_result",
          "data": {
            "text/plain": [
              "rowing, stationary                                       118\n",
              "skateboarding                                            108\n",
              "basketball                                                95\n",
              "golf                                                      89\n",
              "skiing, downhill                                          63\n",
              "soccer                                                    59\n",
              "softball, general                                         54\n",
              "bowling                                                   38\n",
              "boxing                                                    36\n",
              "hacky sack                                                34\n",
              "tennis, hitting balls, non-game play, moderate effort     30\n",
              "frisbee                                                   28\n",
              "football                                                  28\n",
              "track and field                                           27\n",
              "rollerblading                                             26\n",
              "lacrosse                                                  13\n",
              "Name: Activity, dtype: int64"
            ]
          },
          "metadata": {},
          "execution_count": 6
        }
      ]
    },
    {
      "cell_type": "code",
      "source": [
        "#replace the -1 in each category with the average value for each class\n",
        "#excluded_columns = ['center_X','center_Y','ID', 'NAME', 'Scale', 'Activity', 'Category']\n",
        "#check_columns = [column for column in df_filtered.columns if column not in excluded_columns]\n",
        "\n",
        "#for column in check_columns:\n",
        "  #avg_per_activity = df_filtered[df_filtered[column] != -1].groupby('Activity')[column].mean()\n",
        "  #for activity_label, avg_value in avg_per_activity.items():\n",
        "            #mask = (df_filtered['Activity'] == activity_label) & (df_filtered[column] == -1)\n",
        "            #df_filtered.loc[mask, column] = int(avg_value)\n",
        "\n"
      ],
      "metadata": {
        "id": "l14Hu4igK-_N"
      },
      "execution_count": null,
      "outputs": []
    },
    {
      "cell_type": "code",
      "source": [
        "df_filtered = df_filtered[~((df_filtered['l hip_X'] ==-1) | (df_filtered['r hip_X']==-1))]"
      ],
      "metadata": {
        "id": "IwF2egHkzsmx"
      },
      "execution_count": null,
      "outputs": []
    },
    {
      "cell_type": "code",
      "source": [
        "def calcLengthOfBody(row, excluded_columns):\n",
        "  x_values = [val for columnName, val in row.items() if (columnName not in excluded_columns) and (columnName.find('_X')!=-1)]\n",
        "  y_values = [val for columnName, val in row.items() if (columnName not in excluded_columns) and (columnName.find('_Y')!=-1)]\n",
        "  point1 = np.array([max(x_values), max(y_values)])\n",
        "  point2 = np.array([min(x_values), min(y_values)])\n",
        "  euclidean_distance = np.linalg.norm(point1 - point2)\n",
        "  return euclidean_distance"
      ],
      "metadata": {
        "id": "LPx-zZLuUq6g"
      },
      "execution_count": null,
      "outputs": []
    },
    {
      "cell_type": "code",
      "source": [
        "def normalize(row):\n",
        "  row_df = pd.DataFrame(row).transpose()\n",
        "  excluded_columns = ['center_X','center_Y','ID', 'NAME', 'Scale', 'Activity', 'Category']\n",
        "\n",
        "  lenBody = calcLengthOfBody(row, excluded_columns)\n",
        "  #calculate distance from center\n",
        "  for column in row_df.columns:\n",
        "    if column not in excluded_columns:\n",
        "      if column.find('_X') != -1:\n",
        "        row_df[column] = (row_df[column] - row_df['center_X'])/lenBody\n",
        "      if column.find('_Y') != -1:\n",
        "        row_df[column] = (row_df[column] - row_df['center_Y'])/lenBody\n",
        "\n",
        "  return row_df.squeeze()\n",
        "\n",
        "\n"
      ],
      "metadata": {
        "id": "OUo0XcmkyD85"
      },
      "execution_count": null,
      "outputs": []
    },
    {
      "cell_type": "code",
      "source": [
        "#check if both hip sides are visible\n",
        "\n",
        "#df_filtered = df_filtered[~((df_filtered['r hip_X'] == -1) | (df_filtered['l hip_X'] == -1))]\n",
        "\n",
        "df_filtered['center_X'] = (df_filtered['r hip_X'] + df_filtered['l hip_X'])/2\n",
        "df_filtered['center_Y'] = (df_filtered['r hip_Y'] + df_filtered['l hip_Y']) / 2\n",
        "\n",
        "df_normalized = df_filtered.apply(normalize, axis = 1)\n"
      ],
      "metadata": {
        "id": "2IW5WSrJ2_zq"
      },
      "execution_count": null,
      "outputs": []
    },
    {
      "cell_type": "code",
      "source": [
        "excluded_columns = ['center_X','center_Y','ID', 'NAME', 'Scale', 'Category']\n",
        "df_final = df_normalized[df_normalized.columns.difference(excluded_columns)].copy()"
      ],
      "metadata": {
        "id": "wZXUs3fdamWP"
      },
      "execution_count": null,
      "outputs": []
    },
    {
      "cell_type": "code",
      "source": [
        "df_filtered.to_csv(\"filtered_annotations.csv\")\n",
        "\n",
        "blob = bucket.blob(\"annotations/filtered_annotations.csv\")\n",
        "\n",
        "blob.upload_from_filename(\"filtered_annotations.csv\")\n",
        "\n",
        "df_normalized.to_csv(\"normalized_annotations_with_names.csv\")\n",
        "\n",
        "blob = bucket.blob(\"annotations/normalized_annotations_with_names.csv\")\n",
        "\n",
        "blob.upload_from_filename(\"normalized_annotations_with_names.csv\")\n",
        "\n",
        "df_final.to_csv(\"normalized_annotations.csv\")\n",
        "\n",
        "blob = bucket.blob(\"annotations/normalized_annotations.csv\")\n",
        "\n",
        "blob.upload_from_filename(\"normalized_annotations.csv\")\n",
        "\n"
      ],
      "metadata": {
        "id": "OH9RhDInF6Z4"
      },
      "execution_count": null,
      "outputs": []
    }
  ]
}