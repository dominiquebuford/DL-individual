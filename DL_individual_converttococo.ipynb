{
  "cells": [
    {
      "cell_type": "markdown",
      "metadata": {
        "id": "view-in-github",
        "colab_type": "text"
      },
      "source": [
        "<a href=\"https://colab.research.google.com/github/dominiquebuford/DL-individual/blob/main/DL_individual_converttococo.ipynb\" target=\"_parent\"><img src=\"https://colab.research.google.com/assets/colab-badge.svg\" alt=\"Open In Colab\"/></a>"
      ]
    },
    {
      "cell_type": "code",
      "execution_count": null,
      "metadata": {
        "colab": {
          "base_uri": "https://localhost:8080/",
          "height": 1000
        },
        "id": "DR2-xclGbjJV",
        "outputId": "4aaf3a1b-09a6-4f0b-93d3-e1fdf0365a22"
      },
      "outputs": [
        {
          "name": "stdout",
          "output_type": "stream",
          "text": [
            "Welcome! This command will take you through the configuration of gcloud.\n",
            "\n",
            "Settings from your current configuration [default] are:\n",
            "component_manager:\n",
            "  disable_update_check: 'True'\n",
            "compute:\n",
            "  gce_metadata_read_timeout_sec: '0'\n",
            "\n",
            "Pick configuration to use:\n",
            " [1] Re-initialize this configuration [default] with new settings \n",
            " [2] Create a new configuration\n",
            "Please enter your numeric choice:  1\n",
            "\n",
            "Your current configuration has been set to: [default]\n",
            "\n",
            "You can skip diagnostics next time by using the following flag:\n",
            "  gcloud init --skip-diagnostics\n",
            "\n",
            "Network diagnostic detects and fixes local network connection issues.\n",
            "Reachability Check passed.\n",
            "Network diagnostic passed (1/1 checks passed).\n",
            "\n",
            "You must log in to continue. Would you like to log in (Y/n)?  y\n",
            "\n",
            "Go to the following link in your browser:\n",
            "\n",
            "    https://accounts.google.com/o/oauth2/auth?response_type=code&client_id=32555940559.apps.googleusercontent.com&redirect_uri=https%3A%2F%2Fsdk.cloud.google.com%2Fauthcode.html&scope=openid+https%3A%2F%2Fwww.googleapis.com%2Fauth%2Fuserinfo.email+https%3A%2F%2Fwww.googleapis.com%2Fauth%2Fcloud-platform+https%3A%2F%2Fwww.googleapis.com%2Fauth%2Fappengine.admin+https%3A%2F%2Fwww.googleapis.com%2Fauth%2Fsqlservice.login+https%3A%2F%2Fwww.googleapis.com%2Fauth%2Fcompute+https%3A%2F%2Fwww.googleapis.com%2Fauth%2Faccounts.reauth&state=MpP5bGfaeq3xD9SM5MBnq4DmqL3vJj&prompt=consent&token_usage=remote&access_type=offline&code_challenge=ktgd4PZ_cphBkU5i5XXnREOBrkxUXz9ddaYgQfl91N0&code_challenge_method=S256\n",
            "\n",
            "Enter authorization code: 4/0AeaYSHDLUraal1zhAmRcKh7ub7EOQYCREimBc66CIuPqtPvBnq1KXPumLp7f1NbfpGKdxg\n",
            "You are logged in as: [ddnbuford@gmail.com].\n",
            "\n",
            "Pick cloud project to use: \n",
            " [1] cs207-scavengerhunt\n",
            " [2] steady-run-414821\n",
            " [3] Enter a project ID\n",
            " [4] Create a new project\n",
            "Please enter numeric choice or text value (must exactly match list item):  2\n",
            "\n",
            "Your current project has been set to: [steady-run-414821].\n",
            "\n",
            "Not setting default zone/region (this feature makes it easier to use\n",
            "[gcloud compute] by setting an appropriate default value for the\n",
            "--zone and --region flag).\n",
            "See https://cloud.google.com/compute/docs/gcloud-compute section on how to set\n",
            "default compute region and zone manually. If you would like [gcloud init] to be\n",
            "able to do this for you the next time you run it, make sure the\n",
            "Compute Engine API is enabled for your project on the\n",
            "https://console.developers.google.com/apis page.\n",
            "\n",
            "Your Google Cloud SDK is configured and ready to use!\n",
            "\n",
            "* Commands that require authentication will use ddnbuford@gmail.com by default\n",
            "* Commands will reference project `steady-run-414821` by default\n",
            "Run `gcloud help config` to learn how to change individual settings\n",
            "\n",
            "This gcloud configuration is called [default]. You can create additional configurations if you work with multiple accounts and/or projects.\n",
            "Run `gcloud topic configurations` to learn more.\n",
            "\n",
            "Some things to try next:\n",
            "\n",
            "* Run `gcloud --help` to see the Cloud Platform services you can interact with. And run `gcloud help COMMAND` to get help on any gcloud command.\n",
            "* Run `gcloud topic --help` to learn about advanced features of the SDK like arg files and output formatting\n",
            "* Run `gcloud cheat-sheet` to see a roster of go-to `gcloud` commands.\n"
          ]
        },
        {
          "data": {
            "text/html": [
              "\n",
              "     <input type=\"file\" id=\"files-70c49a41-eb4e-49fc-9c0f-1ea496e0801a\" name=\"files[]\" multiple disabled\n",
              "        style=\"border:none\" />\n",
              "     <output id=\"result-70c49a41-eb4e-49fc-9c0f-1ea496e0801a\">\n",
              "      Upload widget is only available when the cell has been executed in the\n",
              "      current browser session. Please rerun this cell to enable.\n",
              "      </output>\n",
              "      <script>// Copyright 2017 Google LLC\n",
              "//\n",
              "// Licensed under the Apache License, Version 2.0 (the \"License\");\n",
              "// you may not use this file except in compliance with the License.\n",
              "// You may obtain a copy of the License at\n",
              "//\n",
              "//      http://www.apache.org/licenses/LICENSE-2.0\n",
              "//\n",
              "// Unless required by applicable law or agreed to in writing, software\n",
              "// distributed under the License is distributed on an \"AS IS\" BASIS,\n",
              "// WITHOUT WARRANTIES OR CONDITIONS OF ANY KIND, either express or implied.\n",
              "// See the License for the specific language governing permissions and\n",
              "// limitations under the License.\n",
              "\n",
              "/**\n",
              " * @fileoverview Helpers for google.colab Python module.\n",
              " */\n",
              "(function(scope) {\n",
              "function span(text, styleAttributes = {}) {\n",
              "  const element = document.createElement('span');\n",
              "  element.textContent = text;\n",
              "  for (const key of Object.keys(styleAttributes)) {\n",
              "    element.style[key] = styleAttributes[key];\n",
              "  }\n",
              "  return element;\n",
              "}\n",
              "\n",
              "// Max number of bytes which will be uploaded at a time.\n",
              "const MAX_PAYLOAD_SIZE = 100 * 1024;\n",
              "\n",
              "function _uploadFiles(inputId, outputId) {\n",
              "  const steps = uploadFilesStep(inputId, outputId);\n",
              "  const outputElement = document.getElementById(outputId);\n",
              "  // Cache steps on the outputElement to make it available for the next call\n",
              "  // to uploadFilesContinue from Python.\n",
              "  outputElement.steps = steps;\n",
              "\n",
              "  return _uploadFilesContinue(outputId);\n",
              "}\n",
              "\n",
              "// This is roughly an async generator (not supported in the browser yet),\n",
              "// where there are multiple asynchronous steps and the Python side is going\n",
              "// to poll for completion of each step.\n",
              "// This uses a Promise to block the python side on completion of each step,\n",
              "// then passes the result of the previous step as the input to the next step.\n",
              "function _uploadFilesContinue(outputId) {\n",
              "  const outputElement = document.getElementById(outputId);\n",
              "  const steps = outputElement.steps;\n",
              "\n",
              "  const next = steps.next(outputElement.lastPromiseValue);\n",
              "  return Promise.resolve(next.value.promise).then((value) => {\n",
              "    // Cache the last promise value to make it available to the next\n",
              "    // step of the generator.\n",
              "    outputElement.lastPromiseValue = value;\n",
              "    return next.value.response;\n",
              "  });\n",
              "}\n",
              "\n",
              "/**\n",
              " * Generator function which is called between each async step of the upload\n",
              " * process.\n",
              " * @param {string} inputId Element ID of the input file picker element.\n",
              " * @param {string} outputId Element ID of the output display.\n",
              " * @return {!Iterable<!Object>} Iterable of next steps.\n",
              " */\n",
              "function* uploadFilesStep(inputId, outputId) {\n",
              "  const inputElement = document.getElementById(inputId);\n",
              "  inputElement.disabled = false;\n",
              "\n",
              "  const outputElement = document.getElementById(outputId);\n",
              "  outputElement.innerHTML = '';\n",
              "\n",
              "  const pickedPromise = new Promise((resolve) => {\n",
              "    inputElement.addEventListener('change', (e) => {\n",
              "      resolve(e.target.files);\n",
              "    });\n",
              "  });\n",
              "\n",
              "  const cancel = document.createElement('button');\n",
              "  inputElement.parentElement.appendChild(cancel);\n",
              "  cancel.textContent = 'Cancel upload';\n",
              "  const cancelPromise = new Promise((resolve) => {\n",
              "    cancel.onclick = () => {\n",
              "      resolve(null);\n",
              "    };\n",
              "  });\n",
              "\n",
              "  // Wait for the user to pick the files.\n",
              "  const files = yield {\n",
              "    promise: Promise.race([pickedPromise, cancelPromise]),\n",
              "    response: {\n",
              "      action: 'starting',\n",
              "    }\n",
              "  };\n",
              "\n",
              "  cancel.remove();\n",
              "\n",
              "  // Disable the input element since further picks are not allowed.\n",
              "  inputElement.disabled = true;\n",
              "\n",
              "  if (!files) {\n",
              "    return {\n",
              "      response: {\n",
              "        action: 'complete',\n",
              "      }\n",
              "    };\n",
              "  }\n",
              "\n",
              "  for (const file of files) {\n",
              "    const li = document.createElement('li');\n",
              "    li.append(span(file.name, {fontWeight: 'bold'}));\n",
              "    li.append(span(\n",
              "        `(${file.type || 'n/a'}) - ${file.size} bytes, ` +\n",
              "        `last modified: ${\n",
              "            file.lastModifiedDate ? file.lastModifiedDate.toLocaleDateString() :\n",
              "                                    'n/a'} - `));\n",
              "    const percent = span('0% done');\n",
              "    li.appendChild(percent);\n",
              "\n",
              "    outputElement.appendChild(li);\n",
              "\n",
              "    const fileDataPromise = new Promise((resolve) => {\n",
              "      const reader = new FileReader();\n",
              "      reader.onload = (e) => {\n",
              "        resolve(e.target.result);\n",
              "      };\n",
              "      reader.readAsArrayBuffer(file);\n",
              "    });\n",
              "    // Wait for the data to be ready.\n",
              "    let fileData = yield {\n",
              "      promise: fileDataPromise,\n",
              "      response: {\n",
              "        action: 'continue',\n",
              "      }\n",
              "    };\n",
              "\n",
              "    // Use a chunked sending to avoid message size limits. See b/62115660.\n",
              "    let position = 0;\n",
              "    do {\n",
              "      const length = Math.min(fileData.byteLength - position, MAX_PAYLOAD_SIZE);\n",
              "      const chunk = new Uint8Array(fileData, position, length);\n",
              "      position += length;\n",
              "\n",
              "      const base64 = btoa(String.fromCharCode.apply(null, chunk));\n",
              "      yield {\n",
              "        response: {\n",
              "          action: 'append',\n",
              "          file: file.name,\n",
              "          data: base64,\n",
              "        },\n",
              "      };\n",
              "\n",
              "      let percentDone = fileData.byteLength === 0 ?\n",
              "          100 :\n",
              "          Math.round((position / fileData.byteLength) * 100);\n",
              "      percent.textContent = `${percentDone}% done`;\n",
              "\n",
              "    } while (position < fileData.byteLength);\n",
              "  }\n",
              "\n",
              "  // All done.\n",
              "  yield {\n",
              "    response: {\n",
              "      action: 'complete',\n",
              "    }\n",
              "  };\n",
              "}\n",
              "\n",
              "scope.google = scope.google || {};\n",
              "scope.google.colab = scope.google.colab || {};\n",
              "scope.google.colab._files = {\n",
              "  _uploadFiles,\n",
              "  _uploadFilesContinue,\n",
              "};\n",
              "})(self);\n",
              "</script> "
            ],
            "text/plain": [
              "<IPython.core.display.HTML object>"
            ]
          },
          "metadata": {},
          "output_type": "display_data"
        },
        {
          "name": "stdout",
          "output_type": "stream",
          "text": [
            "Saving service-account-key.json to service-account-key.json\n"
          ]
        }
      ],
      "source": [
        "!gcloud init\n",
        "from google.colab import files\n",
        "\n",
        "# Upload the JSON key file\n",
        "uploaded = files.upload()\n",
        "import os\n",
        "\n",
        "os.environ['GOOGLE_APPLICATION_CREDENTIALS'] = '/content/service-account-key.json'"
      ]
    },
    {
      "cell_type": "code",
      "execution_count": null,
      "metadata": {
        "colab": {
          "base_uri": "https://localhost:8080/"
        },
        "id": "LPIyDzbSbzRL",
        "outputId": "0088c145-8796-40ce-e009-6f8c6072770c"
      },
      "outputs": [
        {
          "name": "stdout",
          "output_type": "stream",
          "text": [
            "Copying gs://dl-individual-project/annotations/filtered_annotations.csv...\n",
            "/ [1 files][187.5 KiB/187.5 KiB]                                                \n",
            "Operation completed over 1 objects/187.5 KiB.                                    \n"
          ]
        }
      ],
      "source": [
        "!gsutil cp gs://dl-individual-project/annotations/filtered_annotations.csv /content/annotations.csv"
      ]
    },
    {
      "cell_type": "code",
      "execution_count": 113,
      "metadata": {
        "id": "hwJuvemJcOCj"
      },
      "outputs": [],
      "source": [
        "def createDictbackbone():\n",
        "  keypoints = ['r ankle', 'r knee', 'r hip', 'l hip', 'l knee', 'l ankle', 'pelvis', 'thorax', 'upper neck', 'head top', 'r wrist', 'r elbow', 'r shoulder', 'l shoulder', 'l elbow', 'l wrist']\n",
        "  skeleton = [\n",
        "    # Lower body\n",
        "    [13, 2],  # l shoulder -> r hip\n",
        "    [2, 3],   # r hip -> l hip\n",
        "    [3, 4],   # l hip -> l knee\n",
        "    [4, 5],   # l knee -> l ankle\n",
        "    [13, 1],  # l shoulder -> r knee\n",
        "    [1, 0],   # r knee -> r ankle\n",
        "    # Upper body\n",
        "    [13, 8],  # l shoulder -> upper neck\n",
        "    [8, 9],   # upper neck -> head top\n",
        "    [13, 12], # l shoulder -> r shoulder\n",
        "    [12, 11], # r shoulder -> r elbow\n",
        "    [11, 10], # r elbow -> r wrist\n",
        "    [13, 7],  # l shoulder -> thorax\n",
        "    [7, 6],   # thorax -> pelvis\n",
        "  ]\n",
        "  cocoDict = {}\n",
        "  cocoDict[\"categories\"] = [{\n",
        "    \"supercategory\": \"person\",\n",
        "    \"id\": 1,\n",
        "    \"name\": \"person\",\n",
        "    \"keypoints\": keypoints,\n",
        "    \"skeleton\": skeleton\n",
        "  }]\n",
        "\n",
        "  cocoDict['images'] = []\n",
        "  cocoDict['annotations'] = []\n",
        "  return cocoDict"
      ]
    },
    {
      "cell_type": "code",
      "execution_count": null,
      "metadata": {
        "colab": {
          "base_uri": "https://localhost:8080/"
        },
        "id": "LpdflSw1eB3N",
        "outputId": "658a6847-3e7b-423f-9e1a-0a2e9686f035"
      },
      "outputs": [
        {
          "name": "stdout",
          "output_type": "stream",
          "text": [
            "846\n"
          ]
        }
      ],
      "source": [
        "from google.cloud import storage\n",
        "import pandas as pd\n",
        "\n",
        "bucket_name = 'dl-individual-project'\n",
        "images_folder = 'images/'\n",
        "client = storage.Client()\n",
        "bucket = client.get_bucket(bucket_name)\n",
        "blobs = bucket.list_blobs(prefix = images_folder)\n",
        "blob_names = [blob.name[len(images_folder):] for blob in blobs]\n"
      ]
    },
    {
      "cell_type": "code",
      "execution_count": 111,
      "metadata": {
        "id": "7UchNe0sekeZ"
      },
      "outputs": [],
      "source": [
        "def create_coco(imageNames, cocoDictionary):\n",
        "  for i, name in enumerate(imageNames):\n",
        "    fullName = f\"images/{name}\"\n",
        "    tempName = f\"./{name}\"\n",
        "    blob = bucket.blob(fullName)\n",
        "    blob.download_to_filename(tempName)\n",
        "    img = cv2.imread(tempName)\n",
        "    # Get the height and width of the image\n",
        "    height, width = img.shape[:2]\n",
        "\n",
        "    #create input for the cocoDict['images'] list\n",
        "    imageInput = {'file_name': name,\n",
        "                'height': height,\n",
        "                'width': width,\n",
        "                'id': i}\n",
        "\n",
        "    cocoDictionary['images'].append(imageInput)\n",
        "\n",
        "    #create annotation entry for the associated row\n",
        "    annotationsEntry = { 'iscrowd' : 0,\n",
        "        \"image_id\" : i,\n",
        "        \"category_id\" : 1,\n",
        "        \"id\" : i\n",
        "      }\n",
        "\n",
        "    annotationsEntry['keypoints'] = []\n",
        "    #create keypoints list of lists\n",
        "    keyPointsList = df.loc[df['NAME']==name].loc[:, columnsKeylistNames].squeeze().tolist()\n",
        "    for k in range(0,len(keyPointsList), 2):\n",
        "      if keyPointsList[k] == -1:\n",
        "       annotation = [keyPointsList[k], keyPointsList[k+1], 0]\n",
        "      else:\n",
        "        annotation = [keyPointsList[k], keyPointsList[k+1], 1]\n",
        "      annotationsEntry['keypoints'].append(annotation)\n",
        "\n",
        "\n",
        "\n",
        "\n",
        "    cocoDictionary['annotations'].append(annotationsEntry)\n",
        "  return cocoDictionary\n",
        "\n",
        "\n",
        "\n"
      ]
    },
    {
      "cell_type": "code",
      "source": [
        "from sklearn.model_selection import train_test_split\n",
        "import cv2\n",
        "df = pd.read_csv(\"annotations.csv\")\n",
        "columnsKeylistNames = ['r ankle_X', 'r ankle_Y', 'r knee_X', 'r knee_Y', 'r hip_X', 'r hip_Y', 'l hip_X', 'l hip_Y', 'l knee_X', 'l knee_Y', 'l ankle_X', 'l ankle_Y', 'pelvis_X', 'pelvis_Y', 'thorax_X', 'thorax_Y', 'upper neck_X', 'upper neck_Y', 'head top_X', 'head top_Y', 'r wrist_X', 'r wrist_Y', 'r elbow_X', 'r elbow_Y', 'r shoulder_X', 'r shoulder_Y', 'l shoulder_X', 'l shoulder_Y', 'l elbow_X', 'l elbow_Y', 'l wrist_X', 'l wrist_Y']\n",
        "train_annotations, val_annotations = train_test_split(df['NAME'], test_size=0.2, random_state=42)\n",
        "cocoDict_train = createDictbackbone()\n",
        "cocoDict_train = create_coco(train_annotations, cocoDict_train)\n",
        "cocoDict_val = createDictbackbone()\n",
        "\n",
        "cocoDict_val = create_coco(val_annotations, cocoDict_val)\n"
      ],
      "metadata": {
        "colab": {
          "base_uri": "https://localhost:8080/"
        },
        "id": "dZaYBUE3xqxT",
        "outputId": "d489c8a6-ea69-4472-ed82-861a8fc013c2"
      },
      "execution_count": 114,
      "outputs": [
        {
          "output_type": "stream",
          "name": "stdout",
          "text": [
            "first 0\n",
            "second 674\n"
          ]
        }
      ]
    },
    {
      "cell_type": "code",
      "source": [
        "len(cocoDict_train['annotations'])"
      ],
      "metadata": {
        "colab": {
          "base_uri": "https://localhost:8080/"
        },
        "id": "J_XRd5kR9KwA",
        "outputId": "9d362431-fe0b-441d-f2dc-a961b1910f94"
      },
      "execution_count": 115,
      "outputs": [
        {
          "output_type": "execute_result",
          "data": {
            "text/plain": [
              "674"
            ]
          },
          "metadata": {},
          "execution_count": 115
        }
      ]
    },
    {
      "cell_type": "code",
      "source": [
        "import json\n",
        "with open(\"train_annotations.json\", \"w\") as json_file:\n",
        "        json.dump(cocoDict_train, json_file)\n",
        "\n",
        "with open(\"val_annotations.json\", \"w\") as json_file:\n",
        "        json.dump(cocoDict_val, json_file)\n",
        "\n"
      ],
      "metadata": {
        "id": "s_Z9KqpOC6yT"
      },
      "execution_count": 116,
      "outputs": []
    },
    {
      "cell_type": "code",
      "source": [
        "blob = bucket.blob(\"annotations/train_annotations.json\")\n",
        "\n",
        "blob.upload_from_filename(\"train_annotations.json\")\n",
        "\n",
        "blob = bucket.blob(\"annotations/val_annotations.json\")\n",
        "\n",
        "blob.upload_from_filename(\"val_annotations.json\")"
      ],
      "metadata": {
        "id": "_Yio4Jq5Jr8u"
      },
      "execution_count": 117,
      "outputs": []
    }
  ],
  "metadata": {
    "colab": {
      "provenance": [],
      "authorship_tag": "ABX9TyOXdiGDpMzY9TfuZJb1kehs",
      "include_colab_link": true
    },
    "kernelspec": {
      "display_name": "Python 3",
      "name": "python3"
    },
    "language_info": {
      "name": "python"
    }
  },
  "nbformat": 4,
  "nbformat_minor": 0
}